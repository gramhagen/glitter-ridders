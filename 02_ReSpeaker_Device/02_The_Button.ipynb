{
 "cells": [
  {
   "cell_type": "markdown",
   "metadata": {},
   "source": [
    "<h1>The Button</h1>\n",
    "\n",
    "<h3>This notebook uses the Button on the Raspberry Pi HAT to control things.</h3>\n",
    "\n",
    "<i> Click the play button next to the cell you want to run</i>"
   ]
  },
  {
   "cell_type": "markdown",
   "metadata": {},
   "source": [
    "<h2>First we have to set things up</h2>\n",
    "\n",
    "Select the box below and click the run button in the top menu."
   ]
  },
  {
   "cell_type": "code",
   "execution_count": null,
   "metadata": {},
   "outputs": [],
   "source": [
    "from gpiozero import Button\n",
    "from led_helper import red, green, blue, yellow, purple, white\n",
    "from led_helper import color, clear, random, rotate, repeat\n",
    "from signal import pause\n",
    "\n",
    "# The button is connected to GPIO pin 17 on the Raspberry Pi\n",
    "button = Button(17)"
   ]
  },
  {
   "cell_type": "markdown",
   "metadata": {},
   "source": [
    "<h2>Now let's try to recognize when the button is pressed</h2>"
   ]
  },
  {
   "cell_type": "code",
   "execution_count": null,
   "metadata": {},
   "outputs": [],
   "source": [
    "button.wait_for_press()\n",
    "print(\"You pressed the button!\")"
   ]
  },
  {
   "cell_type": "markdown",
   "metadata": {},
   "source": [
    "<h2>Change the button action</h2>\n",
    "    \n",
    "Instead of waiting for the button to get pressed, let's do something everytime the button is pressed.\n",
    "\n",
    "<b>Press the stop button at the top of the page when you get tired of hitting the button</b>\n",
    "\n",
    "Can you change what is printed?"
   ]
  },
  {
   "cell_type": "code",
   "execution_count": null,
   "metadata": {},
   "outputs": [],
   "source": [
    "def say_hello():\n",
    "    print(\"hello\")\n",
    "\n",
    "button.when_pressed = say_hello\n",
    "pause()"
   ]
  },
  {
   "cell_type": "markdown",
   "metadata": {},
   "source": [
    "<h2>Now control the lights with the button!</h2>\n",
    "    \n",
    "Generate a new random color every time the button is pressed"
   ]
  },
  {
   "cell_type": "code",
   "execution_count": null,
   "metadata": {
    "scrolled": true
   },
   "outputs": [],
   "source": [
    "button.when_pressed = random\n",
    "pause()"
   ]
  },
  {
   "cell_type": "markdown",
   "metadata": {},
   "source": [
    "<h2>Nice Work, now let's clean up before we try something else</h2>"
   ]
  },
  {
   "cell_type": "code",
   "execution_count": null,
   "metadata": {},
   "outputs": [],
   "source": [
    "clear()\n",
    "button.close()"
   ]
  },
  {
   "cell_type": "code",
   "execution_count": null,
   "metadata": {},
   "outputs": [],
   "source": []
  }
 ],
 "metadata": {
  "kernelspec": {
   "display_name": "Python 3",
   "language": "python",
   "name": "python3"
  },
  "language_info": {
   "codemirror_mode": {
    "name": "ipython",
    "version": 3
   },
   "file_extension": ".py",
   "mimetype": "text/x-python",
   "name": "python",
   "nbconvert_exporter": "python",
   "pygments_lexer": "ipython3",
   "version": "3.7.3"
  }
 },
 "nbformat": 4,
 "nbformat_minor": 2
}
