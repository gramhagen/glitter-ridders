{
 "cells": [
  {
   "cell_type": "markdown",
   "metadata": {},
   "source": [
    "# Find the clue"
   ]
  },
  {
   "cell_type": "code",
   "execution_count": null,
   "metadata": {},
   "outputs": [],
   "source": [
    "import multiprocessing\n",
    "from random import choice\n",
    "from time import sleep\n",
    "\n",
    "from gpiozero import Button, GPIOPinInUse\n",
    "from respeaker.mic_helper import listen\n",
    "from respeaker.led_helper import red, green, blue, yellow, purple, white\n",
    "from respeaker.led_helper import color, clear, random, rotate, repeat\n",
    "from signal import pause\n",
    "\n",
    "# Turn off LEDs if they are still on\n",
    "clear()\n",
    "\n",
    "# The button is connected to GPIO pin 17 on the Raspberry Pi\n",
    "try:\n",
    "    button = Button(17)\n",
    "except GPIOPinInUse:\n",
    "    pass"
   ]
  },
  {
   "cell_type": "code",
   "execution_count": null,
   "metadata": {},
   "outputs": [],
   "source": [
    "def wrong_answer():\n",
    "    for _ in range(3):\n",
    "        color(led=None, color=red)\n",
    "        sleep(0.1)\n",
    "        clear()\n",
    "        sleep(0.1)\n",
    "        \n",
    "def correct_answer():\n",
    "    repeat(10, 10, random)\n",
    "    color(color=blue)\n",
    "\n",
    "def action(result):\n",
    "    if result == 0:\n",
    "        print(\"I heard \" + keywords[result] + \". Correct answer!\")\n",
    "        p = multiprocessing.Process(\n",
    "            target=correct_answer,\n",
    "        )\n",
    "        p.start()\n",
    "    else:\n",
    "        print(\"I heard \" + keywords[result] + \"... but it is a wrong answer!\")\n",
    "        p = multiprocessing.Process(\n",
    "            target=wrong_answer,\n",
    "        )\n",
    "        p.start()"
   ]
  },
  {
   "cell_type": "markdown",
   "metadata": {},
   "source": [
    "### To start the game, press the button on the device"
   ]
  },
  {
   "cell_type": "code",
   "execution_count": null,
   "metadata": {},
   "outputs": [],
   "source": [
    "keywords = ['blueberry', 'bumblebee', 'grapefruit',\n",
    "            'grasshopper', 'terminator', 'porcupine']\n",
    "\n",
    "started = False\n",
    "listening = None\n",
    "def btn_pressed():\n",
    "    global started, listening\n",
    "\n",
    "    if started:\n",
    "        started = False\n",
    "        print(\"The game has ended.\")\n",
    "\n",
    "        if listening is not None:\n",
    "            listening.terminate()\n",
    "            listening = None\n",
    "        clear()\n",
    "    else:\n",
    "        started = True\n",
    "\n",
    "        print(\"Let the game begin!\\n\\n\")\n",
    "        if listening is None:    \n",
    "            listening = multiprocessing.Process(\n",
    "                target=listen,\n",
    "                args=(keywords, 0.5, action)\n",
    "            )\n",
    "        listening.start()\n",
    "        \n",
    "        # Light blinking\n",
    "        repeat(turns=30, speed=10, action=random)\n",
    "        clear()\n",
    "        \n",
    "        print(\"Speak one of a word \\\"'bumblebee', 'grapefruit', 'grasshopper', 'terminator', 'porcupine', or 'blueberry'.\")\n",
    "              \n",
    "button.when_pressed = btn_pressed"
   ]
  },
  {
   "cell_type": "code",
   "execution_count": null,
   "metadata": {},
   "outputs": [],
   "source": [
    "color(led=2, color=blue)"
   ]
  },
  {
   "cell_type": "code",
   "execution_count": null,
   "metadata": {},
   "outputs": [],
   "source": [
    "clear()"
   ]
  },
  {
   "cell_type": "code",
   "execution_count": null,
   "metadata": {},
   "outputs": [],
   "source": []
  },
  {
   "cell_type": "markdown",
   "metadata": {},
   "source": [
    "### To end the game, press the button on the device again"
   ]
  },
  {
   "cell_type": "code",
   "execution_count": null,
   "metadata": {},
   "outputs": [],
   "source": []
  }
 ],
 "metadata": {
  "kernelspec": {
   "display_name": "Python 3",
   "language": "python",
   "name": "python3"
  },
  "language_info": {
   "codemirror_mode": {
    "name": "ipython",
    "version": 3
   },
   "file_extension": ".py",
   "mimetype": "text/x-python",
   "name": "python",
   "nbconvert_exporter": "python",
   "pygments_lexer": "ipython3",
   "version": "3.7.3"
  }
 },
 "nbformat": 4,
 "nbformat_minor": 4
}
