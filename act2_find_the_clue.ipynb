{
 "cells": [
  {
   "cell_type": "markdown",
   "metadata": {},
   "source": [
    "# Find the clue"
   ]
  },
  {
   "cell_type": "code",
   "execution_count": 1,
   "metadata": {},
   "outputs": [
    {
     "name": "stdout",
     "output_type": "stream",
     "text": [
      "Use hardware SPI\n"
     ]
    }
   ],
   "source": [
    "import multiprocessing\n",
    "from random import choice\n",
    "from time import sleep\n",
    "\n",
    "from gpiozero import Button, GPIOPinInUse\n",
    "from respeaker.mic_helper import listen\n",
    "from respeaker.led_helper import red, green, blue, yellow, purple, white\n",
    "from respeaker.led_helper import color, clear, random, rotate, repeat\n",
    "from signal import pause\n",
    "\n",
    "# Turn off LEDs if they are still on\n",
    "clear()\n",
    "\n",
    "# The button is connected to GPIO pin 17 on the Raspberry Pi\n",
    "try:\n",
    "    button = Button(17)\n",
    "except GPIOPinInUse:\n",
    "    pass"
   ]
  },
  {
   "cell_type": "code",
   "execution_count": 5,
   "metadata": {},
   "outputs": [],
   "source": [
    "def wrong_answer():\n",
    "    for _ in range(3):\n",
    "        color(led=None, color=red)\n",
    "        sleep(0.1)\n",
    "        clear()\n",
    "        sleep(0.1)\n",
    "        \n",
    "def correct_answer():\n",
    "    repeat(10, 10, random)\n",
    "    color(color=blue)\n",
    "\n",
    "def action(result):\n",
    "    print(\"I heard \" + keywords[result])\n",
    "    if result == 0:\n",
    "        p = multiprocessing.Process(\n",
    "            target=correct_answer,\n",
    "        )\n",
    "        p.start()\n",
    "    else:\n",
    "        p = multiprocessing.Process(\n",
    "            target=wrong_answer,\n",
    "        )\n",
    "        p.start()"
   ]
  },
  {
   "cell_type": "markdown",
   "metadata": {},
   "source": [
    "### To start the game, press the button on the device"
   ]
  },
  {
   "cell_type": "code",
   "execution_count": 7,
   "metadata": {},
   "outputs": [
    {
     "name": "stdout",
     "output_type": "stream",
     "text": [
      "Let the game begin!\n",
      "Listening for keywords ...\n",
      "Speak one of a word \"'blueberry', 'bumblebee', 'grapefruit', 'grasshopper', 'terminator', or 'porcupine'.\n",
      "I heard blueberry\n",
      "I heard bumblebee\n",
      "I heard grapefruit\n",
      "I heard bumblebee\n",
      "I heard blueberry\n",
      "The end.\n"
     ]
    }
   ],
   "source": [
    "# When press the button, lights randomly blinking for 3 sec and show all white\n",
    "# listening to the keyword\n",
    "# If correct, show the wire color.\n",
    "# For other keywords, show the wrong color\n",
    "# When press the button again, turned off\n",
    "\n",
    "keywords = ['blueberry', 'bumblebee', 'grapefruit',\n",
    "            'grasshopper', 'terminator', 'porcupine']\n",
    "listening = multiprocessing.Process(\n",
    "    target=listen,\n",
    "    args=(keywords, 0.5, action)\n",
    ")\n",
    "\n",
    "started = False\n",
    "def btn_pressed():\n",
    "    global started\n",
    "\n",
    "    if started:\n",
    "        started = False\n",
    "        print(\"The end.\")\n",
    "\n",
    "        listening.terminate()\n",
    "        clear()\n",
    "    else:\n",
    "        started = True\n",
    "\n",
    "        print(\"Let the game begin!\")\n",
    "        listening.start()\n",
    "        \n",
    "        # Light blinking\n",
    "        repeat(turns=30, speed=10, action=random)\n",
    "        clear() # TODO change to all white indicating lives.\n",
    "        \n",
    "        print(\"Speak one of a word \\\"'blueberry', 'bumblebee', 'grapefruit', 'grasshopper', 'terminator', or 'porcupine'.\")\n",
    "              \n",
    "button.when_pressed = btn_pressed"
   ]
  },
  {
   "cell_type": "markdown",
   "metadata": {},
   "source": [
    "### To end the game, press the button on the device again"
   ]
  },
  {
   "cell_type": "code",
   "execution_count": null,
   "metadata": {},
   "outputs": [],
   "source": []
  }
 ],
 "metadata": {
  "kernelspec": {
   "display_name": "Python 3",
   "language": "python",
   "name": "python3"
  },
  "language_info": {
   "codemirror_mode": {
    "name": "ipython",
    "version": 3
   },
   "file_extension": ".py",
   "mimetype": "text/x-python",
   "name": "python",
   "nbconvert_exporter": "python",
   "pygments_lexer": "ipython3",
   "version": "3.7.3"
  }
 },
 "nbformat": 4,
 "nbformat_minor": 4
}
