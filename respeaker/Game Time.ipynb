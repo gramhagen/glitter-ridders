{
 "cells": [
  {
   "cell_type": "markdown",
   "metadata": {},
   "source": [
    "<h1>Game Time</h1>\n",
    "\n",
    "<h3>This notebook uses the microphone and LEDs to make a game</h3>\n",
    "\n",
    "<i>Click the play button next to the cell you want to run</i>"
   ]
  },
  {
   "cell_type": "markdown",
   "metadata": {},
   "source": [
    "<h2>Setup</h2>"
   ]
  },
  {
   "cell_type": "code",
   "execution_count": 2,
   "metadata": {},
   "outputs": [],
   "source": [
    "from pgb_game import play, clear"
   ]
  },
  {
   "cell_type": "markdown",
   "metadata": {},
   "source": [
    "You've probably played <b>Rock - Paper - Scissors</b> before, but have you ever played\n",
    "<h1>Porcupine - Grapefruit - Bumblebee !!</h1>\n",
    "\n",
    "This game has the following rules:\n",
    "\n",
    "1. Porcupine eats Grapefruit\n",
    "2. Grapefruit squashes Bumblebee\n",
    "3. Bumblebee stings Porcupine\n",
    "\n",
    "There are two players, <span style=\"color:red;\">Red Player</span> and <span style=\"color:blue;\">Blue Player</span>.\n",
    "\n",
    "<span style=\"color:red;\">Red Player</span> goes first, they use the keyboard to pick either Bumblebee, Grapefruit, or Porcupine. (Don't tell the other person what you picked!)\n",
    "\n",
    "<span style=\"color:blue;\">Blue Player</span> goes second, they speak their choice. The winner will be shown on the screen and the LEDs will light up with the winner's colors (or <span style=\"color:purple;\">Purple</span> if it's a draw)."
   ]
  },
  {
   "cell_type": "code",
   "execution_count": null,
   "metadata": {},
   "outputs": [],
   "source": [
    "play() "
   ]
  },
  {
   "cell_type": "markdown",
   "metadata": {},
   "source": [
    "<h2>Hope you had fun, turn off the lights before you leave!</h2>"
   ]
  },
  {
   "cell_type": "code",
   "execution_count": 18,
   "metadata": {},
   "outputs": [],
   "source": [
    "clear()"
   ]
  },
  {
   "cell_type": "code",
   "execution_count": null,
   "metadata": {},
   "outputs": [],
   "source": []
  }
 ],
 "metadata": {
  "kernelspec": {
   "display_name": "Python 3",
   "language": "python",
   "name": "python3"
  }
 },
 "nbformat": 4,
 "nbformat_minor": 2
}
