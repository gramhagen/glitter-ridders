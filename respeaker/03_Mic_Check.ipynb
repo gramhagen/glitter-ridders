{
 "cells": [
  {
   "cell_type": "markdown",
   "metadata": {},
   "source": [
    "<h1>Mic Check</h1>\n",
    "\n",
    "<h3>This notebook uses the Microphone on the Raspberry Pi HAT to listen for keywords.</h3>\n",
    "\n",
    "<i> Click the play button next to the cell you want to run</i>"
   ]
  },
  {
   "cell_type": "markdown",
   "metadata": {},
   "source": [
    "<h2>Setup</h2>"
   ]
  },
  {
   "cell_type": "code",
   "execution_count": null,
   "metadata": {},
   "outputs": [],
   "source": [
    "from mic_helper import listen\n",
    "from led_helper import red, green, blue, yellow, purple, white\n",
    "from led_helper import color, clear, random, rotate, repeat"
   ]
  },
  {
   "cell_type": "code",
   "execution_count": null,
   "metadata": {},
   "outputs": [],
   "source": [
    "OPTIONS = ['blueberry', 'bumblebee', 'grapefruit', 'grasshopper', 'terminator',  'porcupine']"
   ]
  },
  {
   "cell_type": "markdown",
   "metadata": {},
   "source": [
    "<h2>See how good the Raspberry Pi is at listening to you</h2>\n",
    "\n",
    "You can change the keyword `blueberry` to one of the options above. \n",
    "\n",
    "Or you can add multiple ones to listen to at the same time like this: `keywords=['blueberry', 'grapefruit']`\n",
    "\n",
    "What happens if you say the word fast, slow, in a funny accent?\n",
    "\n",
    "<i>Use the stop button at the top of the screen to stop listening.</i>"
   ]
  },
  {
   "cell_type": "code",
   "execution_count": null,
   "metadata": {},
   "outputs": [],
   "source": [
    "listen(keywords=['blueberry'])"
   ]
  },
  {
   "cell_type": "markdown",
   "metadata": {},
   "source": [
    "<h2>Execute your own action when a keyword is detected</h2>\n",
    "\n",
    "You can now make the Raspberry Pi do something when it hears the keyword. \n",
    "\n",
    "Change the value of `Hi!` below to make it print your own message."
   ]
  },
  {
   "cell_type": "code",
   "execution_count": null,
   "metadata": {},
   "outputs": [],
   "source": [
    "def action(result):\n",
    "    print('Hi!')\n",
    "\n",
    "listen(keywords=['blueberry'], action=action)"
   ]
  },
  {
   "cell_type": "markdown",
   "metadata": {},
   "source": [
    "<h2>Now put together lights and voice commands!</h2>\n",
    "    \n",
    "When it hears the first keyword it will turn the lights to the first color. Same for the second keyword and color.\n",
    "\n",
    "Try changing the keywords or colors."
   ]
  },
  {
   "cell_type": "code",
   "execution_count": null,
   "metadata": {},
   "outputs": [],
   "source": [
    "keywords = ['blueberry', 'grasshopper']\n",
    "colors = [blue, green]\n",
    "\n",
    "def action(result):\n",
    "    print('I heard ' + keywords[result])\n",
    "    color(color=colors[result])\n",
    "\n",
    "listen(keywords=keywords, action=action)"
   ]
  },
  {
   "cell_type": "code",
   "execution_count": null,
   "metadata": {},
   "outputs": [],
   "source": [
    "clear()"
   ]
  },
  {
   "cell_type": "code",
   "execution_count": null,
   "metadata": {},
   "outputs": [],
   "source": []
  }
 ],
 "metadata": {
  "kernelspec": {
   "display_name": "Python 3",
   "language": "python",
   "name": "python3"
  },
  "language_info": {
   "codemirror_mode": {
    "name": "ipython",
    "version": 3
   },
   "file_extension": ".py",
   "mimetype": "text/x-python",
   "name": "python",
   "nbconvert_exporter": "python",
   "pygments_lexer": "ipython3",
   "version": "3.5.3"
  }
 },
 "nbformat": 4,
 "nbformat_minor": 2
}
