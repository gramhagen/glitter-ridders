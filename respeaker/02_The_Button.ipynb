{
 "cells": [
  {
   "cell_type": "markdown",
   "metadata": {},
   "source": [
    "<h1>Light Show</h1>\n",
    "\n",
    "<h3>This notebook uses the LEDs (Light Emitting Diodes) on the Raspberry Pi HAT to light things up.</h3>\n",
    "\n",
    "<i> Click the play button next to the cell you want to run</i>"
   ]
  },
  {
   "cell_type": "markdown",
   "metadata": {},
   "source": [
    "<h2>First we have to set things up</h2>\n",
    "\n",
    "Select the box below and click the run button in the top menu."
   ]
  },
  {
   "cell_type": "code",
   "execution_count": null,
   "metadata": {},
   "outputs": [],
   "source": [
    "from led_helper import red, green, blue, yellow, purple, white\n",
    "from led_helper import color, clear, random, rotate, repeat"
   ]
  },
  {
   "cell_type": "markdown",
   "metadata": {},
   "source": [
    "<h2>Now let's try to change the color for one of the LEDs</h2>\n",
    "    \n",
    "There are 3 LEDs, they each have a number: 0, 1, or 2. Change the `0` in `led=0` below to see which one is which.\n",
    "\n",
    "You can also try different colors in `color=red`, try `red`, `green`, `blue`, `yellow`, `purple`, or `white`.\n",
    "\n",
    "Make sure you use all lowercase!"
   ]
  },
  {
   "cell_type": "code",
   "execution_count": 2,
   "metadata": {},
   "outputs": [],
   "source": [
    "clear()\n",
    "color(led=0, color=red)"
   ]
  },
  {
   "cell_type": "markdown",
   "metadata": {},
   "source": [
    "<h2>Pick a random color!</h2>\n",
    "    \n",
    "You can choose a LED just like above by changing `led=0` to 0, 1, or 2.\n",
    "\n",
    "What happens if you remove `led=0` altogether?"
   ]
  },
  {
   "cell_type": "code",
   "execution_count": 3,
   "metadata": {},
   "outputs": [],
   "source": [
    "clear()\n",
    "random(led=0)"
   ]
  },
  {
   "cell_type": "markdown",
   "metadata": {},
   "source": [
    "<h2>Start spinning</h2>\n",
    "    \n",
    "You can rotate the color of the LEDs by using `rotate`\n",
    "\n",
    "You can also repeat the process. Change `turns=10` to be the number of times to rotate, and increase `speed=5` to make them spin faster!"
   ]
  },
  {
   "cell_type": "code",
   "execution_count": 4,
   "metadata": {
    "scrolled": true
   },
   "outputs": [],
   "source": [
    "rotate()"
   ]
  },
  {
   "cell_type": "code",
   "execution_count": 5,
   "metadata": {},
   "outputs": [],
   "source": [
    "repeat(turns=10, speed=5)"
   ]
  },
  {
   "cell_type": "markdown",
   "metadata": {},
   "source": [
    "<h2>You can also repeat the random color for a <i>Light Show!</i></h2>\n",
    "    \n",
    "Try changing the values for turns and speed to make it go faster and longer."
   ]
  },
  {
   "cell_type": "code",
   "execution_count": 6,
   "metadata": {},
   "outputs": [],
   "source": [
    "repeat(turns=50, speed=10, action=random)"
   ]
  },
  {
   "cell_type": "markdown",
   "metadata": {},
   "source": [
    "<h2>Nice Work, now let's clean up before we try something else</h2>"
   ]
  },
  {
   "cell_type": "code",
   "execution_count": 7,
   "metadata": {},
   "outputs": [],
   "source": [
    "clear()"
   ]
  },
  {
   "cell_type": "code",
   "execution_count": null,
   "metadata": {},
   "outputs": [],
   "source": []
  }
 ],
 "metadata": {
  "kernelspec": {
   "display_name": "Python 3",
   "language": "python",
   "name": "python3"
  },
  "language_info": {
   "codemirror_mode": {
    "name": "ipython",
    "version": 3
   },
   "file_extension": ".py",
   "mimetype": "text/x-python",
   "name": "python",
   "nbconvert_exporter": "python",
   "pygments_lexer": "ipython3",
   "version": "3.5.3"
  }
 },
 "nbformat": 4,
 "nbformat_minor": 2
}
